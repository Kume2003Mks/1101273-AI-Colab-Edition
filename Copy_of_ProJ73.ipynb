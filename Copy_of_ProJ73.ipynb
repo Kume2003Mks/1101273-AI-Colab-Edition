{
  "nbformat": 4,
  "nbformat_minor": 0,
  "metadata": {
    "colab": {
      "provenance": []
    },
    "kernelspec": {
      "name": "python3",
      "display_name": "Python 3"
    },
    "language_info": {
      "name": "python"
    }
  },
  "cells": [
    {
      "cell_type": "code",
      "source": [
        "from google.colab import drive\n",
        "drive.mount('/content/drive')"
      ],
      "metadata": {
        "id": "XP4HTOakQKYc"
      },
      "execution_count": null,
      "outputs": []
    },
    {
      "cell_type": "code",
      "source": [
        "!ls \"/content/drive/My Drive/AI70/ai73\""
      ],
      "metadata": {
        "id": "id6oL8gUQeHG"
      },
      "execution_count": null,
      "outputs": []
    },
    {
      "cell_type": "code",
      "source": [
        "from numpy import unicode_\n",
        "import pandas as pd\n",
        "dfSongName = pd.read_csv('/content/drive/My Drive/AI70/ai73/lyric_thai.csv')"
      ],
      "metadata": {
        "id": "R9m5bgDMRJWe"
      },
      "execution_count": null,
      "outputs": []
    },
    {
      "cell_type": "code",
      "source": [
        "import requests\n",
        "from bs4 import BeautifulSoup\n",
        "from urllib.request import urlopen, Request\n",
        "headers = {'User-Agent': 'Mozilla/5.0 (Windows NT 6.1) AppleWebKit/537.36 (KHTML, like Gecko) Chrome/41.0.2228.0 Safari/537.3'}"
      ],
      "metadata": {
        "id": "-UGIouRN4ln8"
      },
      "execution_count": null,
      "outputs": []
    },
    {
      "cell_type": "code",
      "source": [
        "df_Lyrics = pd.DataFrame(columns=['Song','Singer','Lyrics'])"
      ],
      "metadata": {
        "id": "-GScTRZ8QbRN"
      },
      "execution_count": null,
      "outputs": []
    },
    {
      "cell_type": "markdown",
      "source": [
        "ลิ้งไปยังเว็บเนื้อเพลง https://www.siamzone.com/music/thailyric/index.php?mode=allartist\n"
      ],
      "metadata": {
        "id": "aaFFk2OZRTBF"
      }
    },
    {
      "cell_type": "code",
      "source": [
        "for i in  dfSongName.loc[:,'link-href']:\n",
        "  quote_page = i\n",
        "  req = Request(url=quote_page, headers = headers)\n",
        "  page = urlopen(req).read()\n",
        "  soup = BeautifulSoup(page,'html.parser')\n",
        "\n",
        "  lyrics = soup.find('div', attrs = {'class':'has-text-centered-mobile is-size-5-desktop'}).find(style = 'margin-bottom: 1rem;')\n",
        "  title = soup.find('title')\n",
        "\n",
        "  lyrics.text.replace(\"\\t\", \"\").replace(\"\\r\", \"\").replace(\"\\n\", \" \")\n",
        "  a=[]\n",
        "  a = title.text.split(\" | \")\n",
        "  singer = a[1]\n",
        "  b = a[0].split(\" \")\n",
        "  song = b[1]\n",
        "  \n",
        "  df = pd.DataFrame(columns=['Song','Singer','Lyrics'])\n",
        "  df = df.append({'Song': song,'Singer': singer,'Lyrics': lyrics.text.replace(\"\\t\", \"\").replace(\"\\r\", \"\").replace(\"\\n\", \" \")}, ignore_index=True)\n",
        "\n",
        "  df_Lyrics = pd.concat([df_Lyrics, df])\n",
        "  import time\n",
        "  time.sleep(2)"
      ],
      "metadata": {
        "id": "P7Khaak66Gdc"
      },
      "execution_count": null,
      "outputs": []
    },
    {
      "cell_type": "code",
      "source": [
        "df_Lyrics"
      ],
      "metadata": {
        "colab": {
          "base_uri": "https://localhost:8080/",
          "height": 423
        },
        "id": "KNFSuArruZTg",
        "outputId": "bef1c407-6cac-4fd7-9fa3-6a13ee265250"
      },
      "execution_count": null,
      "outputs": [
        {
          "output_type": "execute_result",
          "data": {
            "text/plain": [
              "                       Song                       Singer  \\\n",
              "0                   นุ่มนวล        แน็ท ศิริพงษ์ ศรีสุขา   \n",
              "0           สัจธรรมความเจ็บ  เอิร์ธ พิชิตพงษ์ คำบุญเหลือ   \n",
              "0                       Hot              พิกซ์ซี่ Pixxie   \n",
              "0         ไม่ต้องการจะหายไป          ออเดอร์ 41 Order 41   \n",
              "0                    คนจะลา                     มีน Mean   \n",
              "..                      ...                          ...   \n",
              "0   ความสัมพันธ์ที่บ่มีชื่อ                   อาม ชุติมา   \n",
              "0            ได้ใหม่ลืมเก่า                  วุฒิ ป่าบอน   \n",
              "0          แด่ฉันในวัยเยาว์              บ้านข้างๆ t_047   \n",
              "0                     งานศพ              บ้านข้างๆ t_047   \n",
              "0      สายธารที่ไหลกลับบ้าน              บ้านข้างๆ t_047   \n",
              "\n",
              "                                               Lyrics  \n",
              "0    ละมุนงามหลาย ผิวนวลตาคม กลิ่นเจ้าเมื่อได้ดมดั...  \n",
              "0    ตั้งแต่จบปลายตัวเฮา 2 คนกะบ่ได้พ้อกัน เหลือแต...  \n",
              "0    Hey คนนั้นคือเธอใช่มะ ได้ยินที่เค้าพูดกันว่าเ...  \n",
              "0    I'm a stoner tonight And see you walk by Want...  \n",
              "0    ถ้าคนจะลาก็คือลา คนจะไปก็คือไป ก็ไหนๆ ทำฉันเส...  \n",
              "..                                                ...  \n",
              "0    คิดฮอดกะมาหา เบิดค่ากะจากไป ตั๋วว่าคิดฮอดตั๋ว...  \n",
              "0    คนไม่รู้จักพอ ให้ดีเท่าไรก็คงไม่พอใจ หรือต้อง...  \n",
              "0    แด่ฉันในวัยเยาว์ แด่ฝันในวันเก่า วันนึงเธอจะพ...  \n",
              "0    เธอยังเสียใจอยู่ไหม เธอยังร้องไห้รึเปล่า ในวั...  \n",
              "0    เหมือนดวงดาวนั้นเป็นดวงตา คล้ายดวงจันทร์นั้นเ...  \n",
              "\n",
              "[915 rows x 3 columns]"
            ],
            "text/html": [
              "\n",
              "  <div id=\"df-8a95cc25-73c7-443d-821d-a1a7f2a93076\">\n",
              "    <div class=\"colab-df-container\">\n",
              "      <div>\n",
              "<style scoped>\n",
              "    .dataframe tbody tr th:only-of-type {\n",
              "        vertical-align: middle;\n",
              "    }\n",
              "\n",
              "    .dataframe tbody tr th {\n",
              "        vertical-align: top;\n",
              "    }\n",
              "\n",
              "    .dataframe thead th {\n",
              "        text-align: right;\n",
              "    }\n",
              "</style>\n",
              "<table border=\"1\" class=\"dataframe\">\n",
              "  <thead>\n",
              "    <tr style=\"text-align: right;\">\n",
              "      <th></th>\n",
              "      <th>Song</th>\n",
              "      <th>Singer</th>\n",
              "      <th>Lyrics</th>\n",
              "    </tr>\n",
              "  </thead>\n",
              "  <tbody>\n",
              "    <tr>\n",
              "      <th>0</th>\n",
              "      <td>นุ่มนวล</td>\n",
              "      <td>แน็ท ศิริพงษ์ ศรีสุขา</td>\n",
              "      <td>ละมุนงามหลาย ผิวนวลตาคม กลิ่นเจ้าเมื่อได้ดมดั...</td>\n",
              "    </tr>\n",
              "    <tr>\n",
              "      <th>0</th>\n",
              "      <td>สัจธรรมความเจ็บ</td>\n",
              "      <td>เอิร์ธ พิชิตพงษ์ คำบุญเหลือ</td>\n",
              "      <td>ตั้งแต่จบปลายตัวเฮา 2 คนกะบ่ได้พ้อกัน เหลือแต...</td>\n",
              "    </tr>\n",
              "    <tr>\n",
              "      <th>0</th>\n",
              "      <td>Hot</td>\n",
              "      <td>พิกซ์ซี่ Pixxie</td>\n",
              "      <td>Hey คนนั้นคือเธอใช่มะ ได้ยินที่เค้าพูดกันว่าเ...</td>\n",
              "    </tr>\n",
              "    <tr>\n",
              "      <th>0</th>\n",
              "      <td>ไม่ต้องการจะหายไป</td>\n",
              "      <td>ออเดอร์ 41 Order 41</td>\n",
              "      <td>I'm a stoner tonight And see you walk by Want...</td>\n",
              "    </tr>\n",
              "    <tr>\n",
              "      <th>0</th>\n",
              "      <td>คนจะลา</td>\n",
              "      <td>มีน Mean</td>\n",
              "      <td>ถ้าคนจะลาก็คือลา คนจะไปก็คือไป ก็ไหนๆ ทำฉันเส...</td>\n",
              "    </tr>\n",
              "    <tr>\n",
              "      <th>...</th>\n",
              "      <td>...</td>\n",
              "      <td>...</td>\n",
              "      <td>...</td>\n",
              "    </tr>\n",
              "    <tr>\n",
              "      <th>0</th>\n",
              "      <td>ความสัมพันธ์ที่บ่มีชื่อ</td>\n",
              "      <td>อาม ชุติมา</td>\n",
              "      <td>คิดฮอดกะมาหา เบิดค่ากะจากไป ตั๋วว่าคิดฮอดตั๋ว...</td>\n",
              "    </tr>\n",
              "    <tr>\n",
              "      <th>0</th>\n",
              "      <td>ได้ใหม่ลืมเก่า</td>\n",
              "      <td>วุฒิ ป่าบอน</td>\n",
              "      <td>คนไม่รู้จักพอ ให้ดีเท่าไรก็คงไม่พอใจ หรือต้อง...</td>\n",
              "    </tr>\n",
              "    <tr>\n",
              "      <th>0</th>\n",
              "      <td>แด่ฉันในวัยเยาว์</td>\n",
              "      <td>บ้านข้างๆ t_047</td>\n",
              "      <td>แด่ฉันในวัยเยาว์ แด่ฝันในวันเก่า วันนึงเธอจะพ...</td>\n",
              "    </tr>\n",
              "    <tr>\n",
              "      <th>0</th>\n",
              "      <td>งานศพ</td>\n",
              "      <td>บ้านข้างๆ t_047</td>\n",
              "      <td>เธอยังเสียใจอยู่ไหม เธอยังร้องไห้รึเปล่า ในวั...</td>\n",
              "    </tr>\n",
              "    <tr>\n",
              "      <th>0</th>\n",
              "      <td>สายธารที่ไหลกลับบ้าน</td>\n",
              "      <td>บ้านข้างๆ t_047</td>\n",
              "      <td>เหมือนดวงดาวนั้นเป็นดวงตา คล้ายดวงจันทร์นั้นเ...</td>\n",
              "    </tr>\n",
              "  </tbody>\n",
              "</table>\n",
              "<p>915 rows × 3 columns</p>\n",
              "</div>\n",
              "      <button class=\"colab-df-convert\" onclick=\"convertToInteractive('df-8a95cc25-73c7-443d-821d-a1a7f2a93076')\"\n",
              "              title=\"Convert this dataframe to an interactive table.\"\n",
              "              style=\"display:none;\">\n",
              "        \n",
              "  <svg xmlns=\"http://www.w3.org/2000/svg\" height=\"24px\"viewBox=\"0 0 24 24\"\n",
              "       width=\"24px\">\n",
              "    <path d=\"M0 0h24v24H0V0z\" fill=\"none\"/>\n",
              "    <path d=\"M18.56 5.44l.94 2.06.94-2.06 2.06-.94-2.06-.94-.94-2.06-.94 2.06-2.06.94zm-11 1L8.5 8.5l.94-2.06 2.06-.94-2.06-.94L8.5 2.5l-.94 2.06-2.06.94zm10 10l.94 2.06.94-2.06 2.06-.94-2.06-.94-.94-2.06-.94 2.06-2.06.94z\"/><path d=\"M17.41 7.96l-1.37-1.37c-.4-.4-.92-.59-1.43-.59-.52 0-1.04.2-1.43.59L10.3 9.45l-7.72 7.72c-.78.78-.78 2.05 0 2.83L4 21.41c.39.39.9.59 1.41.59.51 0 1.02-.2 1.41-.59l7.78-7.78 2.81-2.81c.8-.78.8-2.07 0-2.86zM5.41 20L4 18.59l7.72-7.72 1.47 1.35L5.41 20z\"/>\n",
              "  </svg>\n",
              "      </button>\n",
              "      \n",
              "  <style>\n",
              "    .colab-df-container {\n",
              "      display:flex;\n",
              "      flex-wrap:wrap;\n",
              "      gap: 12px;\n",
              "    }\n",
              "\n",
              "    .colab-df-convert {\n",
              "      background-color: #E8F0FE;\n",
              "      border: none;\n",
              "      border-radius: 50%;\n",
              "      cursor: pointer;\n",
              "      display: none;\n",
              "      fill: #1967D2;\n",
              "      height: 32px;\n",
              "      padding: 0 0 0 0;\n",
              "      width: 32px;\n",
              "    }\n",
              "\n",
              "    .colab-df-convert:hover {\n",
              "      background-color: #E2EBFA;\n",
              "      box-shadow: 0px 1px 2px rgba(60, 64, 67, 0.3), 0px 1px 3px 1px rgba(60, 64, 67, 0.15);\n",
              "      fill: #174EA6;\n",
              "    }\n",
              "\n",
              "    [theme=dark] .colab-df-convert {\n",
              "      background-color: #3B4455;\n",
              "      fill: #D2E3FC;\n",
              "    }\n",
              "\n",
              "    [theme=dark] .colab-df-convert:hover {\n",
              "      background-color: #434B5C;\n",
              "      box-shadow: 0px 1px 3px 1px rgba(0, 0, 0, 0.15);\n",
              "      filter: drop-shadow(0px 1px 2px rgba(0, 0, 0, 0.3));\n",
              "      fill: #FFFFFF;\n",
              "    }\n",
              "  </style>\n",
              "\n",
              "      <script>\n",
              "        const buttonEl =\n",
              "          document.querySelector('#df-8a95cc25-73c7-443d-821d-a1a7f2a93076 button.colab-df-convert');\n",
              "        buttonEl.style.display =\n",
              "          google.colab.kernel.accessAllowed ? 'block' : 'none';\n",
              "\n",
              "        async function convertToInteractive(key) {\n",
              "          const element = document.querySelector('#df-8a95cc25-73c7-443d-821d-a1a7f2a93076');\n",
              "          const dataTable =\n",
              "            await google.colab.kernel.invokeFunction('convertToInteractive',\n",
              "                                                     [key], {});\n",
              "          if (!dataTable) return;\n",
              "\n",
              "          const docLinkHtml = 'Like what you see? Visit the ' +\n",
              "            '<a target=\"_blank\" href=https://colab.research.google.com/notebooks/data_table.ipynb>data table notebook</a>'\n",
              "            + ' to learn more about interactive tables.';\n",
              "          element.innerHTML = '';\n",
              "          dataTable['output_type'] = 'display_data';\n",
              "          await google.colab.output.renderOutput(dataTable, element);\n",
              "          const docLink = document.createElement('div');\n",
              "          docLink.innerHTML = docLinkHtml;\n",
              "          element.appendChild(docLink);\n",
              "        }\n",
              "      </script>\n",
              "    </div>\n",
              "  </div>\n",
              "  "
            ]
          },
          "metadata": {},
          "execution_count": 7
        }
      ]
    },
    {
      "cell_type": "markdown",
      "source": [
        "ติดตั้ง library แยกคำไทย"
      ],
      "metadata": {
        "id": "v0qMgk0M13TC"
      }
    },
    {
      "cell_type": "code",
      "source": [
        "! pip install pythainlp\n",
        "!pip install epitran\n",
        "!pip install sklearn_crfsuite\n",
        "!pip install tensorflow deepcut\n",
        "!pip install attacut\n"
      ],
      "metadata": {
        "id": "RC40KSZscCh_"
      },
      "execution_count": null,
      "outputs": []
    },
    {
      "cell_type": "code",
      "source": [
        "!pip install xlrd #อ่าน excel"
      ],
      "metadata": {
        "id": "pFLnSO0C1Zk6"
      },
      "execution_count": null,
      "outputs": []
    },
    {
      "cell_type": "code",
      "source": [
        "import pythainlp #แยกคำไทย\n",
        "!wget https://github.com/Phonbopit/sarabun-webfont/raw/master/fonts/thsarabunnew-webfont.ttf\n"
      ],
      "metadata": {
        "id": "E-1GwcTYeKY2"
      },
      "execution_count": null,
      "outputs": []
    },
    {
      "cell_type": "code",
      "source": [
        "dfLabel = pd.read_excel('/content/drive/My Drive/AI70/ai73/Lyric_Label.xlsx')"
      ],
      "metadata": {
        "id": "gWJ1GMoS0mYi"
      },
      "execution_count": null,
      "outputs": []
    },
    {
      "cell_type": "code",
      "source": [
        "dfLabel"
      ],
      "metadata": {
        "id": "5iGMiPfL1qsz",
        "colab": {
          "base_uri": "https://localhost:8080/",
          "height": 424
        },
        "outputId": "05b62b01-7b75-44d7-d919-095e009256d4"
      },
      "execution_count": null,
      "outputs": [
        {
          "output_type": "execute_result",
          "data": {
            "text/plain": [
              "                                                Lyrics       Label\n",
              "0     ละมุนงามหลาย ผิวนวลตาคม กลิ่นเจ้าเมื่อได้ดมดั...         จีบ\n",
              "1     ตั้งแต่จบปลายตัวเฮา 2 คนกะบ่ได้พ้อกัน เหลือแต...       อกหัก\n",
              "2     Hey คนนั้นคือเธอใช่มะ ได้ยินที่เค้าพูดกันว่าเ...    สนุกสนาน\n",
              "3     I'm a stoner tonight And see you walk by Want...       อกหัก\n",
              "4     ถ้าคนจะลาก็คือลา คนจะไปก็คือไป ก็ไหนๆ ทำฉันเส...       อกหัก\n",
              "..                                                 ...         ...\n",
              "905   คนไม่รู้จักพอ ให้ดีเท่าไรก็คงไม่พอใจ หรือต้อง...     ผิดหวัง\n",
              "906   แด่ฉันในวัยเยาว์ แด่ฝันในวันเก่า วันนึงเธอจะพ...  ให้กำลังใจ\n",
              "907   เธอยังเสียใจอยู่ไหม เธอยังร้องไห้รึเปล่า ในวั...  ให้กำลังใจ\n",
              "908   เหมือนดวงดาวนั้นเป็นดวงตา คล้ายดวงจันทร์นั้นเ...         จีบ\n",
              "909  รู้จักยังสัสกูไม้โท ราชาเหินออกตัวแบบฉายเดี่ยว...    สนุกสนาน\n",
              "\n",
              "[910 rows x 2 columns]"
            ],
            "text/html": [
              "\n",
              "  <div id=\"df-6f0f9e5c-a028-4938-9c0f-50016499ed91\">\n",
              "    <div class=\"colab-df-container\">\n",
              "      <div>\n",
              "<style scoped>\n",
              "    .dataframe tbody tr th:only-of-type {\n",
              "        vertical-align: middle;\n",
              "    }\n",
              "\n",
              "    .dataframe tbody tr th {\n",
              "        vertical-align: top;\n",
              "    }\n",
              "\n",
              "    .dataframe thead th {\n",
              "        text-align: right;\n",
              "    }\n",
              "</style>\n",
              "<table border=\"1\" class=\"dataframe\">\n",
              "  <thead>\n",
              "    <tr style=\"text-align: right;\">\n",
              "      <th></th>\n",
              "      <th>Lyrics</th>\n",
              "      <th>Label</th>\n",
              "    </tr>\n",
              "  </thead>\n",
              "  <tbody>\n",
              "    <tr>\n",
              "      <th>0</th>\n",
              "      <td>ละมุนงามหลาย ผิวนวลตาคม กลิ่นเจ้าเมื่อได้ดมดั...</td>\n",
              "      <td>จีบ</td>\n",
              "    </tr>\n",
              "    <tr>\n",
              "      <th>1</th>\n",
              "      <td>ตั้งแต่จบปลายตัวเฮา 2 คนกะบ่ได้พ้อกัน เหลือแต...</td>\n",
              "      <td>อกหัก</td>\n",
              "    </tr>\n",
              "    <tr>\n",
              "      <th>2</th>\n",
              "      <td>Hey คนนั้นคือเธอใช่มะ ได้ยินที่เค้าพูดกันว่าเ...</td>\n",
              "      <td>สนุกสนาน</td>\n",
              "    </tr>\n",
              "    <tr>\n",
              "      <th>3</th>\n",
              "      <td>I'm a stoner tonight And see you walk by Want...</td>\n",
              "      <td>อกหัก</td>\n",
              "    </tr>\n",
              "    <tr>\n",
              "      <th>4</th>\n",
              "      <td>ถ้าคนจะลาก็คือลา คนจะไปก็คือไป ก็ไหนๆ ทำฉันเส...</td>\n",
              "      <td>อกหัก</td>\n",
              "    </tr>\n",
              "    <tr>\n",
              "      <th>...</th>\n",
              "      <td>...</td>\n",
              "      <td>...</td>\n",
              "    </tr>\n",
              "    <tr>\n",
              "      <th>905</th>\n",
              "      <td>คนไม่รู้จักพอ ให้ดีเท่าไรก็คงไม่พอใจ หรือต้อง...</td>\n",
              "      <td>ผิดหวัง</td>\n",
              "    </tr>\n",
              "    <tr>\n",
              "      <th>906</th>\n",
              "      <td>แด่ฉันในวัยเยาว์ แด่ฝันในวันเก่า วันนึงเธอจะพ...</td>\n",
              "      <td>ให้กำลังใจ</td>\n",
              "    </tr>\n",
              "    <tr>\n",
              "      <th>907</th>\n",
              "      <td>เธอยังเสียใจอยู่ไหม เธอยังร้องไห้รึเปล่า ในวั...</td>\n",
              "      <td>ให้กำลังใจ</td>\n",
              "    </tr>\n",
              "    <tr>\n",
              "      <th>908</th>\n",
              "      <td>เหมือนดวงดาวนั้นเป็นดวงตา คล้ายดวงจันทร์นั้นเ...</td>\n",
              "      <td>จีบ</td>\n",
              "    </tr>\n",
              "    <tr>\n",
              "      <th>909</th>\n",
              "      <td>รู้จักยังสัสกูไม้โท ราชาเหินออกตัวแบบฉายเดี่ยว...</td>\n",
              "      <td>สนุกสนาน</td>\n",
              "    </tr>\n",
              "  </tbody>\n",
              "</table>\n",
              "<p>910 rows × 2 columns</p>\n",
              "</div>\n",
              "      <button class=\"colab-df-convert\" onclick=\"convertToInteractive('df-6f0f9e5c-a028-4938-9c0f-50016499ed91')\"\n",
              "              title=\"Convert this dataframe to an interactive table.\"\n",
              "              style=\"display:none;\">\n",
              "        \n",
              "  <svg xmlns=\"http://www.w3.org/2000/svg\" height=\"24px\"viewBox=\"0 0 24 24\"\n",
              "       width=\"24px\">\n",
              "    <path d=\"M0 0h24v24H0V0z\" fill=\"none\"/>\n",
              "    <path d=\"M18.56 5.44l.94 2.06.94-2.06 2.06-.94-2.06-.94-.94-2.06-.94 2.06-2.06.94zm-11 1L8.5 8.5l.94-2.06 2.06-.94-2.06-.94L8.5 2.5l-.94 2.06-2.06.94zm10 10l.94 2.06.94-2.06 2.06-.94-2.06-.94-.94-2.06-.94 2.06-2.06.94z\"/><path d=\"M17.41 7.96l-1.37-1.37c-.4-.4-.92-.59-1.43-.59-.52 0-1.04.2-1.43.59L10.3 9.45l-7.72 7.72c-.78.78-.78 2.05 0 2.83L4 21.41c.39.39.9.59 1.41.59.51 0 1.02-.2 1.41-.59l7.78-7.78 2.81-2.81c.8-.78.8-2.07 0-2.86zM5.41 20L4 18.59l7.72-7.72 1.47 1.35L5.41 20z\"/>\n",
              "  </svg>\n",
              "      </button>\n",
              "      \n",
              "  <style>\n",
              "    .colab-df-container {\n",
              "      display:flex;\n",
              "      flex-wrap:wrap;\n",
              "      gap: 12px;\n",
              "    }\n",
              "\n",
              "    .colab-df-convert {\n",
              "      background-color: #E8F0FE;\n",
              "      border: none;\n",
              "      border-radius: 50%;\n",
              "      cursor: pointer;\n",
              "      display: none;\n",
              "      fill: #1967D2;\n",
              "      height: 32px;\n",
              "      padding: 0 0 0 0;\n",
              "      width: 32px;\n",
              "    }\n",
              "\n",
              "    .colab-df-convert:hover {\n",
              "      background-color: #E2EBFA;\n",
              "      box-shadow: 0px 1px 2px rgba(60, 64, 67, 0.3), 0px 1px 3px 1px rgba(60, 64, 67, 0.15);\n",
              "      fill: #174EA6;\n",
              "    }\n",
              "\n",
              "    [theme=dark] .colab-df-convert {\n",
              "      background-color: #3B4455;\n",
              "      fill: #D2E3FC;\n",
              "    }\n",
              "\n",
              "    [theme=dark] .colab-df-convert:hover {\n",
              "      background-color: #434B5C;\n",
              "      box-shadow: 0px 1px 3px 1px rgba(0, 0, 0, 0.15);\n",
              "      filter: drop-shadow(0px 1px 2px rgba(0, 0, 0, 0.3));\n",
              "      fill: #FFFFFF;\n",
              "    }\n",
              "  </style>\n",
              "\n",
              "      <script>\n",
              "        const buttonEl =\n",
              "          document.querySelector('#df-6f0f9e5c-a028-4938-9c0f-50016499ed91 button.colab-df-convert');\n",
              "        buttonEl.style.display =\n",
              "          google.colab.kernel.accessAllowed ? 'block' : 'none';\n",
              "\n",
              "        async function convertToInteractive(key) {\n",
              "          const element = document.querySelector('#df-6f0f9e5c-a028-4938-9c0f-50016499ed91');\n",
              "          const dataTable =\n",
              "            await google.colab.kernel.invokeFunction('convertToInteractive',\n",
              "                                                     [key], {});\n",
              "          if (!dataTable) return;\n",
              "\n",
              "          const docLinkHtml = 'Like what you see? Visit the ' +\n",
              "            '<a target=\"_blank\" href=https://colab.research.google.com/notebooks/data_table.ipynb>data table notebook</a>'\n",
              "            + ' to learn more about interactive tables.';\n",
              "          element.innerHTML = '';\n",
              "          dataTable['output_type'] = 'display_data';\n",
              "          await google.colab.output.renderOutput(dataTable, element);\n",
              "          const docLink = document.createElement('div');\n",
              "          docLink.innerHTML = docLinkHtml;\n",
              "          element.appendChild(docLink);\n",
              "        }\n",
              "      </script>\n",
              "    </div>\n",
              "  </div>\n",
              "  "
            ]
          },
          "metadata": {},
          "execution_count": 8
        }
      ]
    },
    {
      "cell_type": "code",
      "source": [
        "from pythainlp import sent_tokenize, word_tokenize"
      ],
      "metadata": {
        "id": "-he7AxVAdZhe"
      },
      "execution_count": null,
      "outputs": []
    },
    {
      "cell_type": "code",
      "source": [
        "ForWord = pd.DataFrame(columns=['Lyrics', 'Label'])"
      ],
      "metadata": {
        "id": "aj5CKm017aND"
      },
      "execution_count": null,
      "outputs": []
    },
    {
      "cell_type": "markdown",
      "source": [
        "**แยกคำ**"
      ],
      "metadata": {
        "id": "8SL8jZe9WqiO"
      }
    },
    {
      "cell_type": "code",
      "source": [
        "x = 0\n",
        "for i in dfLabel.loc[:,'Lyrics']:\n",
        "  ForWord = ForWord.append({'Lyrics': word_tokenize(i, keep_whitespace=False),'Label': dfLabel.loc[x,'Label']}, ignore_index = True)\n",
        "  x = x+1"
      ],
      "metadata": {
        "id": "gm5AQ8MvUKJG"
      },
      "execution_count": null,
      "outputs": []
    },
    {
      "cell_type": "code",
      "source": [
        "ForWord"
      ],
      "metadata": {
        "colab": {
          "base_uri": "https://localhost:8080/",
          "height": 424
        },
        "id": "Ddg8lcTDU7Tq",
        "outputId": "2b852894-5921-4ebe-93e1-8a1ad60c8dcb"
      },
      "execution_count": null,
      "outputs": [
        {
          "output_type": "execute_result",
          "data": {
            "text/plain": [
              "                                                Lyrics       Label\n",
              "0    [ละมุน, งาม, หลาย, ผิว, นวล, ตาคม, กลิ่น, เจ้า...         จีบ\n",
              "1    [ตั้งแต่, จบ, ปลาย, ตัว, เฮา, 2, คน, กะ, บ่, ไ...       อกหัก\n",
              "2    [Hey, คน, นั้น, คือ, เธอ, ใช่, มะ, ได้ยิน, ที่...    สนุกสนาน\n",
              "3    [I, ', m, a, stoner, tonight, And, see, you, w...       อกหัก\n",
              "4    [ถ้า, คน, จะ, ลา, ก็, คือ, ลา, คน, จะ, ไป, ก็,...       อกหัก\n",
              "..                                                 ...         ...\n",
              "905  [คน, ไม่, รู้จัก, พอ, ให้, ดี, เท่าไร, ก็, คง,...     ผิดหวัง\n",
              "906  [แด่, ฉัน, ใน, วัยเยาว์, แด่, ฝัน, ใน, วัน, เก...  ให้กำลังใจ\n",
              "907  [เธอ, ยัง, เสียใจ, อยู่, ไหม, เธอ, ยัง, ร้องไห...  ให้กำลังใจ\n",
              "908  [เหมือน, ดวงดาว, นั้น, เป็น, ดวงตา, คล้าย, ดวง...         จีบ\n",
              "909  [รู้จัก, ยัง, สัส, กู, ไม้โท, ราชา, เหิน, ออกต...    สนุกสนาน\n",
              "\n",
              "[910 rows x 2 columns]"
            ],
            "text/html": [
              "\n",
              "  <div id=\"df-79c0515c-3123-4fb4-814c-88ce454ff756\">\n",
              "    <div class=\"colab-df-container\">\n",
              "      <div>\n",
              "<style scoped>\n",
              "    .dataframe tbody tr th:only-of-type {\n",
              "        vertical-align: middle;\n",
              "    }\n",
              "\n",
              "    .dataframe tbody tr th {\n",
              "        vertical-align: top;\n",
              "    }\n",
              "\n",
              "    .dataframe thead th {\n",
              "        text-align: right;\n",
              "    }\n",
              "</style>\n",
              "<table border=\"1\" class=\"dataframe\">\n",
              "  <thead>\n",
              "    <tr style=\"text-align: right;\">\n",
              "      <th></th>\n",
              "      <th>Lyrics</th>\n",
              "      <th>Label</th>\n",
              "    </tr>\n",
              "  </thead>\n",
              "  <tbody>\n",
              "    <tr>\n",
              "      <th>0</th>\n",
              "      <td>[ละมุน, งาม, หลาย, ผิว, นวล, ตาคม, กลิ่น, เจ้า...</td>\n",
              "      <td>จีบ</td>\n",
              "    </tr>\n",
              "    <tr>\n",
              "      <th>1</th>\n",
              "      <td>[ตั้งแต่, จบ, ปลาย, ตัว, เฮา, 2, คน, กะ, บ่, ไ...</td>\n",
              "      <td>อกหัก</td>\n",
              "    </tr>\n",
              "    <tr>\n",
              "      <th>2</th>\n",
              "      <td>[Hey, คน, นั้น, คือ, เธอ, ใช่, มะ, ได้ยิน, ที่...</td>\n",
              "      <td>สนุกสนาน</td>\n",
              "    </tr>\n",
              "    <tr>\n",
              "      <th>3</th>\n",
              "      <td>[I, ', m, a, stoner, tonight, And, see, you, w...</td>\n",
              "      <td>อกหัก</td>\n",
              "    </tr>\n",
              "    <tr>\n",
              "      <th>4</th>\n",
              "      <td>[ถ้า, คน, จะ, ลา, ก็, คือ, ลา, คน, จะ, ไป, ก็,...</td>\n",
              "      <td>อกหัก</td>\n",
              "    </tr>\n",
              "    <tr>\n",
              "      <th>...</th>\n",
              "      <td>...</td>\n",
              "      <td>...</td>\n",
              "    </tr>\n",
              "    <tr>\n",
              "      <th>905</th>\n",
              "      <td>[คน, ไม่, รู้จัก, พอ, ให้, ดี, เท่าไร, ก็, คง,...</td>\n",
              "      <td>ผิดหวัง</td>\n",
              "    </tr>\n",
              "    <tr>\n",
              "      <th>906</th>\n",
              "      <td>[แด่, ฉัน, ใน, วัยเยาว์, แด่, ฝัน, ใน, วัน, เก...</td>\n",
              "      <td>ให้กำลังใจ</td>\n",
              "    </tr>\n",
              "    <tr>\n",
              "      <th>907</th>\n",
              "      <td>[เธอ, ยัง, เสียใจ, อยู่, ไหม, เธอ, ยัง, ร้องไห...</td>\n",
              "      <td>ให้กำลังใจ</td>\n",
              "    </tr>\n",
              "    <tr>\n",
              "      <th>908</th>\n",
              "      <td>[เหมือน, ดวงดาว, นั้น, เป็น, ดวงตา, คล้าย, ดวง...</td>\n",
              "      <td>จีบ</td>\n",
              "    </tr>\n",
              "    <tr>\n",
              "      <th>909</th>\n",
              "      <td>[รู้จัก, ยัง, สัส, กู, ไม้โท, ราชา, เหิน, ออกต...</td>\n",
              "      <td>สนุกสนาน</td>\n",
              "    </tr>\n",
              "  </tbody>\n",
              "</table>\n",
              "<p>910 rows × 2 columns</p>\n",
              "</div>\n",
              "      <button class=\"colab-df-convert\" onclick=\"convertToInteractive('df-79c0515c-3123-4fb4-814c-88ce454ff756')\"\n",
              "              title=\"Convert this dataframe to an interactive table.\"\n",
              "              style=\"display:none;\">\n",
              "        \n",
              "  <svg xmlns=\"http://www.w3.org/2000/svg\" height=\"24px\"viewBox=\"0 0 24 24\"\n",
              "       width=\"24px\">\n",
              "    <path d=\"M0 0h24v24H0V0z\" fill=\"none\"/>\n",
              "    <path d=\"M18.56 5.44l.94 2.06.94-2.06 2.06-.94-2.06-.94-.94-2.06-.94 2.06-2.06.94zm-11 1L8.5 8.5l.94-2.06 2.06-.94-2.06-.94L8.5 2.5l-.94 2.06-2.06.94zm10 10l.94 2.06.94-2.06 2.06-.94-2.06-.94-.94-2.06-.94 2.06-2.06.94z\"/><path d=\"M17.41 7.96l-1.37-1.37c-.4-.4-.92-.59-1.43-.59-.52 0-1.04.2-1.43.59L10.3 9.45l-7.72 7.72c-.78.78-.78 2.05 0 2.83L4 21.41c.39.39.9.59 1.41.59.51 0 1.02-.2 1.41-.59l7.78-7.78 2.81-2.81c.8-.78.8-2.07 0-2.86zM5.41 20L4 18.59l7.72-7.72 1.47 1.35L5.41 20z\"/>\n",
              "  </svg>\n",
              "      </button>\n",
              "      \n",
              "  <style>\n",
              "    .colab-df-container {\n",
              "      display:flex;\n",
              "      flex-wrap:wrap;\n",
              "      gap: 12px;\n",
              "    }\n",
              "\n",
              "    .colab-df-convert {\n",
              "      background-color: #E8F0FE;\n",
              "      border: none;\n",
              "      border-radius: 50%;\n",
              "      cursor: pointer;\n",
              "      display: none;\n",
              "      fill: #1967D2;\n",
              "      height: 32px;\n",
              "      padding: 0 0 0 0;\n",
              "      width: 32px;\n",
              "    }\n",
              "\n",
              "    .colab-df-convert:hover {\n",
              "      background-color: #E2EBFA;\n",
              "      box-shadow: 0px 1px 2px rgba(60, 64, 67, 0.3), 0px 1px 3px 1px rgba(60, 64, 67, 0.15);\n",
              "      fill: #174EA6;\n",
              "    }\n",
              "\n",
              "    [theme=dark] .colab-df-convert {\n",
              "      background-color: #3B4455;\n",
              "      fill: #D2E3FC;\n",
              "    }\n",
              "\n",
              "    [theme=dark] .colab-df-convert:hover {\n",
              "      background-color: #434B5C;\n",
              "      box-shadow: 0px 1px 3px 1px rgba(0, 0, 0, 0.15);\n",
              "      filter: drop-shadow(0px 1px 2px rgba(0, 0, 0, 0.3));\n",
              "      fill: #FFFFFF;\n",
              "    }\n",
              "  </style>\n",
              "\n",
              "      <script>\n",
              "        const buttonEl =\n",
              "          document.querySelector('#df-79c0515c-3123-4fb4-814c-88ce454ff756 button.colab-df-convert');\n",
              "        buttonEl.style.display =\n",
              "          google.colab.kernel.accessAllowed ? 'block' : 'none';\n",
              "\n",
              "        async function convertToInteractive(key) {\n",
              "          const element = document.querySelector('#df-79c0515c-3123-4fb4-814c-88ce454ff756');\n",
              "          const dataTable =\n",
              "            await google.colab.kernel.invokeFunction('convertToInteractive',\n",
              "                                                     [key], {});\n",
              "          if (!dataTable) return;\n",
              "\n",
              "          const docLinkHtml = 'Like what you see? Visit the ' +\n",
              "            '<a target=\"_blank\" href=https://colab.research.google.com/notebooks/data_table.ipynb>data table notebook</a>'\n",
              "            + ' to learn more about interactive tables.';\n",
              "          element.innerHTML = '';\n",
              "          dataTable['output_type'] = 'display_data';\n",
              "          await google.colab.output.renderOutput(dataTable, element);\n",
              "          const docLink = document.createElement('div');\n",
              "          docLink.innerHTML = docLinkHtml;\n",
              "          element.appendChild(docLink);\n",
              "        }\n",
              "      </script>\n",
              "    </div>\n",
              "  </div>\n",
              "  "
            ]
          },
          "metadata": {},
          "execution_count": 19
        }
      ]
    },
    {
      "cell_type": "code",
      "source": [
        "ForWord.to_excel('ForWord.xlsx')"
      ],
      "metadata": {
        "id": "68FUJ5RHHGDB"
      },
      "execution_count": null,
      "outputs": []
    },
    {
      "cell_type": "markdown",
      "source": [
        "---------------------------------------------------------\n"
      ],
      "metadata": {
        "id": "vwsrUa3P5I9w"
      }
    },
    {
      "cell_type": "markdown",
      "source": [
        "**ช่วงการทดลองสร้าง** **dataset**"
      ],
      "metadata": {
        "id": "6Fp04Msx5EdY"
      }
    },
    {
      "cell_type": "code",
      "source": [
        "ForWord_Sub1 = pd.DataFrame()"
      ],
      "metadata": {
        "id": "iN6FT0Ol1Gbc"
      },
      "execution_count": null,
      "outputs": []
    },
    {
      "cell_type": "code",
      "source": [
        "from sklearn.feature_extraction.text import CountVectorizer"
      ],
      "metadata": {
        "id": "SaoQP3Zl46Uh"
      },
      "execution_count": null,
      "outputs": []
    },
    {
      "cell_type": "code",
      "source": [
        "word_tokenize(dfLabel.loc[0,'Lyrics'], keep_whitespace=False)"
      ],
      "metadata": {
        "id": "il_FwgwzpOYk"
      },
      "execution_count": null,
      "outputs": []
    },
    {
      "cell_type": "code",
      "source": [
        "' '.join(word_tokenize(dfLabel.loc[0,'Lyrics'], keep_whitespace=False))"
      ],
      "metadata": {
        "colab": {
          "base_uri": "https://localhost:8080/",
          "height": 122
        },
        "id": "dD3KkkyMoiN9",
        "outputId": "27781bbc-519c-4448-feec-3d31346f86ac"
      },
      "execution_count": null,
      "outputs": [
        {
          "output_type": "execute_result",
          "data": {
            "text/plain": [
              "'ละมุน งาม หลาย ผิว นวล ตาคม กลิ่น เจ้า เมื่อ ได้ ดม ดั่ง ดวง จำปา ละมุน จริงใจ คือ สำเนียง ภาษา ดีใจ ที่ อ้าย ได้มา มา พบ พ้อ เจ้า แม่น้ำ โขง คั่น เฮา ไว้ แต่ บ่ เคย กั้น ใจ ให้ ใจ สอง เฮา ได้ คึด ฮอด กัน แววตา เจ้า นั้น อ้าย ยัง จำ สัมพันธ์ อยู่ เมือง เวียงจันทน์ ท่ามกลาง ประตู ไซ อยาก ไป เยี่ยม ยาม ถาม ว่า สำ บาย ดี บ่ อ้าย คน บ่ หล่อ อยาก สิ ไป ถามไถ่ ให้ เจ้า ไข หัวใจ ฮับ ฮัก อ้าย แน่ หอม รัญจวน กลิ่น นวล น้อง นาง แวว ตาหวาน อ้าย ซวน ซื่นซม อยาก กอด น้อง นาง เอวบาง ตากลม อ้าย หลง ซื่นซม น้อง คำ นาง ตก แลง ยาม ค่ำ เหลี่ยว เบิ่ง ตะ เว็น คึด ฮอด บ่ ว่างเว้น คึด พ้อ ลาย ซิ่น คน งาม จิบ เบย ลาว คืน นั้น มื้อ ที่ เจ้า เคียงข้าง อยาก ให้ นิยาม ว่า น้อง นาง นุ่มนวล หอม รัญจวน กลิ่น นวล น้อง นาง แวว ตาหวาน อ้าย ซวน ซื่นซม อยาก กอด น้อง นาง เอวบาง ตากลม อ้าย หลง ซื่นซม น้อง คำ นาง อ้าย หลง ซื่นซม น้อง นาง นุ่มนวล อ้าย หลง ซื่นซม น้อง นาง นุ่มนวล'"
            ],
            "application/vnd.google.colaboratory.intrinsic+json": {
              "type": "string"
            }
          },
          "metadata": {},
          "execution_count": 14
        }
      ]
    },
    {
      "cell_type": "code",
      "source": [
        "def my_tokenise(txt):\n",
        "  txt = word_tokenize(txt, keep_whitespace=False)\n",
        "  return ' '.join(txt)"
      ],
      "metadata": {
        "id": "80_i9Sd3qyz1"
      },
      "execution_count": null,
      "outputs": []
    },
    {
      "cell_type": "code",
      "source": [
        "ForWord_Sub1['token'] = dfLabel.loc[:,'Lyrics'].apply(my_tokenise)"
      ],
      "metadata": {
        "id": "4WY6q0oak2uk"
      },
      "execution_count": null,
      "outputs": []
    },
    {
      "cell_type": "code",
      "source": [
        "ForWord_Sub1"
      ],
      "metadata": {
        "id": "BSqqz0BFrwrt"
      },
      "execution_count": null,
      "outputs": []
    },
    {
      "cell_type": "code",
      "source": [
        "from sklearn.feature_extraction.text import CountVectorizer\n",
        "\n",
        "\n",
        "vectorizer = CountVectorizer()\n",
        "X = vectorizer.fit_transform(ForWord_Sub1.loc[:,'token'])\n",
        "\n",
        "print(X.shape)\n",
        "print(X.toarray())\n",
        "print(vectorizer.get_feature_names_out())\n",
        "dfX = pd.DataFrame(X.toarray())"
      ],
      "metadata": {
        "id": "doIylakIaUly"
      },
      "execution_count": null,
      "outputs": []
    },
    {
      "cell_type": "code",
      "source": [
        "dfX = pd.DataFrame(X.toarray())"
      ],
      "metadata": {
        "id": "-nAqBDWev7Ve"
      },
      "execution_count": null,
      "outputs": []
    },
    {
      "cell_type": "code",
      "source": [
        "dfX"
      ],
      "metadata": {
        "colab": {
          "base_uri": "https://localhost:8080/",
          "height": 424
        },
        "id": "m2dp9f2ewRpd",
        "outputId": "a4cd8c58-2c09-4751-bb31-e0a1eec88f5b"
      },
      "execution_count": null,
      "outputs": [
        {
          "output_type": "execute_result",
          "data": {
            "text/plain": [
              "     0     1     2     3     4     5     6     7     8     9     ...  7396  \\\n",
              "0       0     0     0     0     0     0     0     0     0     0  ...     0   \n",
              "1       0     0     0     0     0     0     0     0     0     0  ...     0   \n",
              "2       0     0     0     0     0     0     0     0     0     0  ...     0   \n",
              "3       0     0     0     0     0     0     0     0     0     0  ...     0   \n",
              "4       0     0     0     0     0     0     0     0     0     0  ...     0   \n",
              "..    ...   ...   ...   ...   ...   ...   ...   ...   ...   ...  ...   ...   \n",
              "905     0     0     0     0     0     0     0     0     0     0  ...     0   \n",
              "906     0     0     0     0     0     0     0     0     0     0  ...     0   \n",
              "907     0     0     0     0     0     0     0     0     0     0  ...     0   \n",
              "908     0     0     0     0     0     0     0     0     0     0  ...     0   \n",
              "909     0     0     0     0     0     0     0     0     0     0  ...     0   \n",
              "\n",
              "     7397  7398  7399  7400  7401  7402  7403  7404  7405  \n",
              "0       0     0     0     0     0     0     0     0     0  \n",
              "1       0     0     0     0     0     0     0     0     0  \n",
              "2       0     0     0     0     0     0     0     0     0  \n",
              "3       0     0     0     0     0     0     0     0     0  \n",
              "4       0     0     0     0     0     0     0     0     0  \n",
              "..    ...   ...   ...   ...   ...   ...   ...   ...   ...  \n",
              "905     0     0     0     0     0     0     0     0     0  \n",
              "906     0     0     0     0     0     0     0     0     0  \n",
              "907     0     0     0     0     0     0     0     0     0  \n",
              "908     0     0     0     0     0     0     0     0     0  \n",
              "909     0     0     0     0     0     0     0     0     0  \n",
              "\n",
              "[910 rows x 7406 columns]"
            ],
            "text/html": [
              "\n",
              "  <div id=\"df-e14d009d-2965-4ce3-a13b-e8fb054a1bd7\">\n",
              "    <div class=\"colab-df-container\">\n",
              "      <div>\n",
              "<style scoped>\n",
              "    .dataframe tbody tr th:only-of-type {\n",
              "        vertical-align: middle;\n",
              "    }\n",
              "\n",
              "    .dataframe tbody tr th {\n",
              "        vertical-align: top;\n",
              "    }\n",
              "\n",
              "    .dataframe thead th {\n",
              "        text-align: right;\n",
              "    }\n",
              "</style>\n",
              "<table border=\"1\" class=\"dataframe\">\n",
              "  <thead>\n",
              "    <tr style=\"text-align: right;\">\n",
              "      <th></th>\n",
              "      <th>0</th>\n",
              "      <th>1</th>\n",
              "      <th>2</th>\n",
              "      <th>3</th>\n",
              "      <th>4</th>\n",
              "      <th>5</th>\n",
              "      <th>6</th>\n",
              "      <th>7</th>\n",
              "      <th>8</th>\n",
              "      <th>9</th>\n",
              "      <th>...</th>\n",
              "      <th>7396</th>\n",
              "      <th>7397</th>\n",
              "      <th>7398</th>\n",
              "      <th>7399</th>\n",
              "      <th>7400</th>\n",
              "      <th>7401</th>\n",
              "      <th>7402</th>\n",
              "      <th>7403</th>\n",
              "      <th>7404</th>\n",
              "      <th>7405</th>\n",
              "    </tr>\n",
              "  </thead>\n",
              "  <tbody>\n",
              "    <tr>\n",
              "      <th>0</th>\n",
              "      <td>0</td>\n",
              "      <td>0</td>\n",
              "      <td>0</td>\n",
              "      <td>0</td>\n",
              "      <td>0</td>\n",
              "      <td>0</td>\n",
              "      <td>0</td>\n",
              "      <td>0</td>\n",
              "      <td>0</td>\n",
              "      <td>0</td>\n",
              "      <td>...</td>\n",
              "      <td>0</td>\n",
              "      <td>0</td>\n",
              "      <td>0</td>\n",
              "      <td>0</td>\n",
              "      <td>0</td>\n",
              "      <td>0</td>\n",
              "      <td>0</td>\n",
              "      <td>0</td>\n",
              "      <td>0</td>\n",
              "      <td>0</td>\n",
              "    </tr>\n",
              "    <tr>\n",
              "      <th>1</th>\n",
              "      <td>0</td>\n",
              "      <td>0</td>\n",
              "      <td>0</td>\n",
              "      <td>0</td>\n",
              "      <td>0</td>\n",
              "      <td>0</td>\n",
              "      <td>0</td>\n",
              "      <td>0</td>\n",
              "      <td>0</td>\n",
              "      <td>0</td>\n",
              "      <td>...</td>\n",
              "      <td>0</td>\n",
              "      <td>0</td>\n",
              "      <td>0</td>\n",
              "      <td>0</td>\n",
              "      <td>0</td>\n",
              "      <td>0</td>\n",
              "      <td>0</td>\n",
              "      <td>0</td>\n",
              "      <td>0</td>\n",
              "      <td>0</td>\n",
              "    </tr>\n",
              "    <tr>\n",
              "      <th>2</th>\n",
              "      <td>0</td>\n",
              "      <td>0</td>\n",
              "      <td>0</td>\n",
              "      <td>0</td>\n",
              "      <td>0</td>\n",
              "      <td>0</td>\n",
              "      <td>0</td>\n",
              "      <td>0</td>\n",
              "      <td>0</td>\n",
              "      <td>0</td>\n",
              "      <td>...</td>\n",
              "      <td>0</td>\n",
              "      <td>0</td>\n",
              "      <td>0</td>\n",
              "      <td>0</td>\n",
              "      <td>0</td>\n",
              "      <td>0</td>\n",
              "      <td>0</td>\n",
              "      <td>0</td>\n",
              "      <td>0</td>\n",
              "      <td>0</td>\n",
              "    </tr>\n",
              "    <tr>\n",
              "      <th>3</th>\n",
              "      <td>0</td>\n",
              "      <td>0</td>\n",
              "      <td>0</td>\n",
              "      <td>0</td>\n",
              "      <td>0</td>\n",
              "      <td>0</td>\n",
              "      <td>0</td>\n",
              "      <td>0</td>\n",
              "      <td>0</td>\n",
              "      <td>0</td>\n",
              "      <td>...</td>\n",
              "      <td>0</td>\n",
              "      <td>0</td>\n",
              "      <td>0</td>\n",
              "      <td>0</td>\n",
              "      <td>0</td>\n",
              "      <td>0</td>\n",
              "      <td>0</td>\n",
              "      <td>0</td>\n",
              "      <td>0</td>\n",
              "      <td>0</td>\n",
              "    </tr>\n",
              "    <tr>\n",
              "      <th>4</th>\n",
              "      <td>0</td>\n",
              "      <td>0</td>\n",
              "      <td>0</td>\n",
              "      <td>0</td>\n",
              "      <td>0</td>\n",
              "      <td>0</td>\n",
              "      <td>0</td>\n",
              "      <td>0</td>\n",
              "      <td>0</td>\n",
              "      <td>0</td>\n",
              "      <td>...</td>\n",
              "      <td>0</td>\n",
              "      <td>0</td>\n",
              "      <td>0</td>\n",
              "      <td>0</td>\n",
              "      <td>0</td>\n",
              "      <td>0</td>\n",
              "      <td>0</td>\n",
              "      <td>0</td>\n",
              "      <td>0</td>\n",
              "      <td>0</td>\n",
              "    </tr>\n",
              "    <tr>\n",
              "      <th>...</th>\n",
              "      <td>...</td>\n",
              "      <td>...</td>\n",
              "      <td>...</td>\n",
              "      <td>...</td>\n",
              "      <td>...</td>\n",
              "      <td>...</td>\n",
              "      <td>...</td>\n",
              "      <td>...</td>\n",
              "      <td>...</td>\n",
              "      <td>...</td>\n",
              "      <td>...</td>\n",
              "      <td>...</td>\n",
              "      <td>...</td>\n",
              "      <td>...</td>\n",
              "      <td>...</td>\n",
              "      <td>...</td>\n",
              "      <td>...</td>\n",
              "      <td>...</td>\n",
              "      <td>...</td>\n",
              "      <td>...</td>\n",
              "      <td>...</td>\n",
              "    </tr>\n",
              "    <tr>\n",
              "      <th>905</th>\n",
              "      <td>0</td>\n",
              "      <td>0</td>\n",
              "      <td>0</td>\n",
              "      <td>0</td>\n",
              "      <td>0</td>\n",
              "      <td>0</td>\n",
              "      <td>0</td>\n",
              "      <td>0</td>\n",
              "      <td>0</td>\n",
              "      <td>0</td>\n",
              "      <td>...</td>\n",
              "      <td>0</td>\n",
              "      <td>0</td>\n",
              "      <td>0</td>\n",
              "      <td>0</td>\n",
              "      <td>0</td>\n",
              "      <td>0</td>\n",
              "      <td>0</td>\n",
              "      <td>0</td>\n",
              "      <td>0</td>\n",
              "      <td>0</td>\n",
              "    </tr>\n",
              "    <tr>\n",
              "      <th>906</th>\n",
              "      <td>0</td>\n",
              "      <td>0</td>\n",
              "      <td>0</td>\n",
              "      <td>0</td>\n",
              "      <td>0</td>\n",
              "      <td>0</td>\n",
              "      <td>0</td>\n",
              "      <td>0</td>\n",
              "      <td>0</td>\n",
              "      <td>0</td>\n",
              "      <td>...</td>\n",
              "      <td>0</td>\n",
              "      <td>0</td>\n",
              "      <td>0</td>\n",
              "      <td>0</td>\n",
              "      <td>0</td>\n",
              "      <td>0</td>\n",
              "      <td>0</td>\n",
              "      <td>0</td>\n",
              "      <td>0</td>\n",
              "      <td>0</td>\n",
              "    </tr>\n",
              "    <tr>\n",
              "      <th>907</th>\n",
              "      <td>0</td>\n",
              "      <td>0</td>\n",
              "      <td>0</td>\n",
              "      <td>0</td>\n",
              "      <td>0</td>\n",
              "      <td>0</td>\n",
              "      <td>0</td>\n",
              "      <td>0</td>\n",
              "      <td>0</td>\n",
              "      <td>0</td>\n",
              "      <td>...</td>\n",
              "      <td>0</td>\n",
              "      <td>0</td>\n",
              "      <td>0</td>\n",
              "      <td>0</td>\n",
              "      <td>0</td>\n",
              "      <td>0</td>\n",
              "      <td>0</td>\n",
              "      <td>0</td>\n",
              "      <td>0</td>\n",
              "      <td>0</td>\n",
              "    </tr>\n",
              "    <tr>\n",
              "      <th>908</th>\n",
              "      <td>0</td>\n",
              "      <td>0</td>\n",
              "      <td>0</td>\n",
              "      <td>0</td>\n",
              "      <td>0</td>\n",
              "      <td>0</td>\n",
              "      <td>0</td>\n",
              "      <td>0</td>\n",
              "      <td>0</td>\n",
              "      <td>0</td>\n",
              "      <td>...</td>\n",
              "      <td>0</td>\n",
              "      <td>0</td>\n",
              "      <td>0</td>\n",
              "      <td>0</td>\n",
              "      <td>0</td>\n",
              "      <td>0</td>\n",
              "      <td>0</td>\n",
              "      <td>0</td>\n",
              "      <td>0</td>\n",
              "      <td>0</td>\n",
              "    </tr>\n",
              "    <tr>\n",
              "      <th>909</th>\n",
              "      <td>0</td>\n",
              "      <td>0</td>\n",
              "      <td>0</td>\n",
              "      <td>0</td>\n",
              "      <td>0</td>\n",
              "      <td>0</td>\n",
              "      <td>0</td>\n",
              "      <td>0</td>\n",
              "      <td>0</td>\n",
              "      <td>0</td>\n",
              "      <td>...</td>\n",
              "      <td>0</td>\n",
              "      <td>0</td>\n",
              "      <td>0</td>\n",
              "      <td>0</td>\n",
              "      <td>0</td>\n",
              "      <td>0</td>\n",
              "      <td>0</td>\n",
              "      <td>0</td>\n",
              "      <td>0</td>\n",
              "      <td>0</td>\n",
              "    </tr>\n",
              "  </tbody>\n",
              "</table>\n",
              "<p>910 rows × 7406 columns</p>\n",
              "</div>\n",
              "      <button class=\"colab-df-convert\" onclick=\"convertToInteractive('df-e14d009d-2965-4ce3-a13b-e8fb054a1bd7')\"\n",
              "              title=\"Convert this dataframe to an interactive table.\"\n",
              "              style=\"display:none;\">\n",
              "        \n",
              "  <svg xmlns=\"http://www.w3.org/2000/svg\" height=\"24px\"viewBox=\"0 0 24 24\"\n",
              "       width=\"24px\">\n",
              "    <path d=\"M0 0h24v24H0V0z\" fill=\"none\"/>\n",
              "    <path d=\"M18.56 5.44l.94 2.06.94-2.06 2.06-.94-2.06-.94-.94-2.06-.94 2.06-2.06.94zm-11 1L8.5 8.5l.94-2.06 2.06-.94-2.06-.94L8.5 2.5l-.94 2.06-2.06.94zm10 10l.94 2.06.94-2.06 2.06-.94-2.06-.94-.94-2.06-.94 2.06-2.06.94z\"/><path d=\"M17.41 7.96l-1.37-1.37c-.4-.4-.92-.59-1.43-.59-.52 0-1.04.2-1.43.59L10.3 9.45l-7.72 7.72c-.78.78-.78 2.05 0 2.83L4 21.41c.39.39.9.59 1.41.59.51 0 1.02-.2 1.41-.59l7.78-7.78 2.81-2.81c.8-.78.8-2.07 0-2.86zM5.41 20L4 18.59l7.72-7.72 1.47 1.35L5.41 20z\"/>\n",
              "  </svg>\n",
              "      </button>\n",
              "      \n",
              "  <style>\n",
              "    .colab-df-container {\n",
              "      display:flex;\n",
              "      flex-wrap:wrap;\n",
              "      gap: 12px;\n",
              "    }\n",
              "\n",
              "    .colab-df-convert {\n",
              "      background-color: #E8F0FE;\n",
              "      border: none;\n",
              "      border-radius: 50%;\n",
              "      cursor: pointer;\n",
              "      display: none;\n",
              "      fill: #1967D2;\n",
              "      height: 32px;\n",
              "      padding: 0 0 0 0;\n",
              "      width: 32px;\n",
              "    }\n",
              "\n",
              "    .colab-df-convert:hover {\n",
              "      background-color: #E2EBFA;\n",
              "      box-shadow: 0px 1px 2px rgba(60, 64, 67, 0.3), 0px 1px 3px 1px rgba(60, 64, 67, 0.15);\n",
              "      fill: #174EA6;\n",
              "    }\n",
              "\n",
              "    [theme=dark] .colab-df-convert {\n",
              "      background-color: #3B4455;\n",
              "      fill: #D2E3FC;\n",
              "    }\n",
              "\n",
              "    [theme=dark] .colab-df-convert:hover {\n",
              "      background-color: #434B5C;\n",
              "      box-shadow: 0px 1px 3px 1px rgba(0, 0, 0, 0.15);\n",
              "      filter: drop-shadow(0px 1px 2px rgba(0, 0, 0, 0.3));\n",
              "      fill: #FFFFFF;\n",
              "    }\n",
              "  </style>\n",
              "\n",
              "      <script>\n",
              "        const buttonEl =\n",
              "          document.querySelector('#df-e14d009d-2965-4ce3-a13b-e8fb054a1bd7 button.colab-df-convert');\n",
              "        buttonEl.style.display =\n",
              "          google.colab.kernel.accessAllowed ? 'block' : 'none';\n",
              "\n",
              "        async function convertToInteractive(key) {\n",
              "          const element = document.querySelector('#df-e14d009d-2965-4ce3-a13b-e8fb054a1bd7');\n",
              "          const dataTable =\n",
              "            await google.colab.kernel.invokeFunction('convertToInteractive',\n",
              "                                                     [key], {});\n",
              "          if (!dataTable) return;\n",
              "\n",
              "          const docLinkHtml = 'Like what you see? Visit the ' +\n",
              "            '<a target=\"_blank\" href=https://colab.research.google.com/notebooks/data_table.ipynb>data table notebook</a>'\n",
              "            + ' to learn more about interactive tables.';\n",
              "          element.innerHTML = '';\n",
              "          dataTable['output_type'] = 'display_data';\n",
              "          await google.colab.output.renderOutput(dataTable, element);\n",
              "          const docLink = document.createElement('div');\n",
              "          docLink.innerHTML = docLinkHtml;\n",
              "          element.appendChild(docLink);\n",
              "        }\n",
              "      </script>\n",
              "    </div>\n",
              "  </div>\n",
              "  "
            ]
          },
          "metadata": {},
          "execution_count": 20
        }
      ]
    },
    {
      "cell_type": "code",
      "source": [
        "dfX.to_excel('dfX.xlsx')"
      ],
      "metadata": {
        "id": "so4B4M2iwWws"
      },
      "execution_count": null,
      "outputs": []
    },
    {
      "cell_type": "code",
      "source": [
        "dfX['Label'] = dfLabel.loc[:,'Label']"
      ],
      "metadata": {
        "id": "nEnxIqzgyN9h"
      },
      "execution_count": null,
      "outputs": []
    },
    {
      "cell_type": "markdown",
      "source": [
        "Decition Tree"
      ],
      "metadata": {
        "id": "Q-KXu2A14FVG"
      }
    },
    {
      "cell_type": "code",
      "source": [
        "from sklearn import neighbors\n",
        "from sklearn.metrics import confusion_matrix\n",
        "from sklearn import metrics\n",
        "from sklearn import tree\n",
        "\n",
        "x1 = dfX.loc[:,dfX.columns!='Label']\n",
        "x2 = dfX.loc[:,'Label']\n",
        "\n",
        "model = tree.DecisionTreeClassifier(max_depth=3)\n",
        "model.fit(x1, x2)\n",
        "y_pred = model.predict(x1)\n",
        "\n",
        "print(confusion_matrix(x2, y_pred))\n",
        "print(metrics.accuracy_score(x2, y_pred))\n"
      ],
      "metadata": {
        "colab": {
          "base_uri": "https://localhost:8080/"
        },
        "id": "p_kJHy8Ez5sO",
        "outputId": "4ae7ddb0-5a76-4770-f611-f746b84583f8"
      },
      "execution_count": null,
      "outputs": [
        {
          "output_type": "stream",
          "name": "stdout",
          "text": [
            "[[ 18   0   0  28   2   0   0  34   0   0]\n",
            " [  2   0   0  75  10   0   0  32   0   0]\n",
            " [  2   0   0  53   5   0   0  43   0   0]\n",
            " [  1   0   0 110   5   0   0  27   0   0]\n",
            " [  1   0   0  37  50   0   0  39   0   0]\n",
            " [  0   0   0   0   1   0   0   0   0   0]\n",
            " [  1   0   0  53   1   0   0  56   0   0]\n",
            " [  2   0   0  43   8   0   0  77   0   0]\n",
            " [  2   0   0  13   2   0   0  12   0   0]\n",
            " [  0   0   0  17   7   0   0  38   0   3]]\n",
            "0.2835164835164835\n"
          ]
        }
      ]
    },
    {
      "cell_type": "markdown",
      "source": [
        "Decition Tree(K-fold)"
      ],
      "metadata": {
        "id": "OCK1ZlzG3_tX"
      }
    },
    {
      "cell_type": "code",
      "source": [
        "from sklearn import datasets\n",
        "from sklearn import tree\n",
        "from sklearn.model_selection import cross_val_score\n",
        "\n",
        "#iris is a dataset in sklearn library\n",
        "\n",
        "knn= neighbors.KNeighborsClassifier()\n",
        "model = tree.DecisionTreeClassifier(max_depth=5)\n",
        "\n",
        "print(\"\\nk-fold cross validation\\n************\")\n",
        "\n",
        "Accuracies = cross_val_score(estimator = model,X= dfX.loc[:,dfX.columns!='Label'],y= dfX.loc[:,'Label'],cv= 10)\n",
        "\n",
        "Avg_Accuracy = Accuracies.mean()\n",
        "print(Avg_Accuracy)\n"
      ],
      "metadata": {
        "colab": {
          "base_uri": "https://localhost:8080/"
        },
        "id": "BA1KdrW43F3O",
        "outputId": "ebf41935-aa2b-41aa-e405-686aee81f77c"
      },
      "execution_count": null,
      "outputs": [
        {
          "output_type": "stream",
          "name": "stdout",
          "text": [
            "\n",
            "k-fold cross validation\n",
            "************\n"
          ]
        },
        {
          "output_type": "stream",
          "name": "stderr",
          "text": [
            "/usr/local/lib/python3.8/dist-packages/sklearn/model_selection/_split.py:676: UserWarning: The least populated class in y has only 1 members, which is less than n_splits=10.\n",
            "  warnings.warn(\n"
          ]
        },
        {
          "output_type": "stream",
          "name": "stdout",
          "text": [
            "0.2571428571428571\n"
          ]
        }
      ]
    },
    {
      "cell_type": "markdown",
      "source": [
        "Split training & test sets"
      ],
      "metadata": {
        "id": "TkA7-oknBUou"
      }
    },
    {
      "cell_type": "code",
      "source": [
        "from sklearn import datasets\n",
        "from sklearn import neighbors\n",
        "\n",
        "x = dfX.loc[:,dfX.columns!='Label']\n",
        "y = dfX.loc[:,'Label']\n",
        "\n",
        "from sklearn.model_selection import train_test_split\n",
        "\n",
        "x_train, x_test, y_train, y_test = train_test_split(x, y, test_size=0.3) \n",
        "\n",
        "knn= neighbors.KNeighborsClassifier() \n",
        "knn.fit(x_train,y_train)\n",
        "\n",
        "y_pred = knn.predict(x_test) # Test a model\n",
        "\n",
        "knn= neighbors.KNeighborsClassifier() \n",
        "knn.fit(x_train,y_train) # Create a model\n",
        "y_pred= knn.predict(x_test) # Test a model\n",
        "\n",
        "from sklearn.metrics import confusion_matrix\n",
        "from sklearn import metrics\n",
        "print(confusion_matrix(y_test, y_pred))\n",
        "print(metrics.accuracy_score(y_test, y_pred))\n"
      ],
      "metadata": {
        "colab": {
          "base_uri": "https://localhost:8080/"
        },
        "id": "lEB8sjFp4Lvt",
        "outputId": "b8cc78e0-56c8-4284-ded3-dc395ad3256e"
      },
      "execution_count": null,
      "outputs": [
        {
          "output_type": "stream",
          "name": "stdout",
          "text": [
            "[[12  4  3  1  0  0  4  0  0]\n",
            " [15  4  2  5  3  4  3  0  1]\n",
            " [10  5  1  0  0  5  1  0  1]\n",
            " [ 8  2  1 12  1  7  7  0  1]\n",
            " [ 9  3  3  5  7  3  3  0  4]\n",
            " [ 7  3  5  6  0 12 10  0  0]\n",
            " [10  9  1  5  1  2 13  0  0]\n",
            " [ 4  0  0  2  1  1  0  0  0]\n",
            " [ 9  2  0  1  1  0  5  0  3]]\n",
            "0.23443223443223443\n"
          ]
        }
      ]
    },
    {
      "cell_type": "markdown",
      "source": [
        "เปลี่ยน Label จาก 9 เป็น 4"
      ],
      "metadata": {
        "id": "z0V6c_Il_xKv"
      }
    },
    {
      "cell_type": "code",
      "source": [
        "dfLabelNew = pd.read_excel('/content/drive/My Drive/AI70/ai73/Lyric_LabelNew.xlsx')"
      ],
      "metadata": {
        "id": "aSTiPOe-AUPm"
      },
      "execution_count": null,
      "outputs": []
    },
    {
      "cell_type": "code",
      "source": [
        "dfNew = pd.DataFrame(X.toarray())\n",
        "dfNew['Label'] = dfLabelNew.loc[:,'Label']"
      ],
      "metadata": {
        "id": "22e3z3vR_wZ3"
      },
      "execution_count": null,
      "outputs": []
    },
    {
      "cell_type": "code",
      "source": [
        "print(dfNew['Label'])"
      ],
      "metadata": {
        "colab": {
          "base_uri": "https://localhost:8080/"
        },
        "id": "h4-hR-0u_LDu",
        "outputId": "c497f39e-d26a-4468-d7b2-b4c7f32add85"
      },
      "execution_count": null,
      "outputs": [
        {
          "output_type": "stream",
          "name": "stdout",
          "text": [
            "0             รัก\n",
            "1           เศร้า\n",
            "2        สนุกสนาน\n",
            "3           เศร้า\n",
            "4           เศร้า\n",
            "          ...    \n",
            "905         เศร้า\n",
            "906    ให้กำลังใจ\n",
            "907    ให้กำลังใจ\n",
            "908           รัก\n",
            "909      สนุกสนาน\n",
            "Name: Label, Length: 910, dtype: object\n"
          ]
        }
      ]
    },
    {
      "cell_type": "markdown",
      "source": [
        "Decition tree"
      ],
      "metadata": {
        "id": "R78HNrChBJeP"
      }
    },
    {
      "cell_type": "code",
      "source": [
        "from sklearn import neighbors\n",
        "from sklearn.metrics import confusion_matrix\n",
        "from sklearn import metrics\n",
        "from sklearn import tree\n",
        "\n",
        "x1 = dfNew.loc[:,dfX.columns!='Label']\n",
        "x2 = dfNew.loc[:,'Label']\n",
        "\n",
        "model = tree.DecisionTreeClassifier(max_depth=3)\n",
        "model.fit(x1, x2)\n",
        "y_pred = model.predict(x1)\n",
        "\n",
        "\n",
        "print(\"\\n *Predicted data* \\n\")\n",
        "print(y_pred)\n",
        "print(confusion_matrix(x2, y_pred))\n",
        "print(metrics.accuracy_score(x2, y_pred))"
      ],
      "metadata": {
        "colab": {
          "base_uri": "https://localhost:8080/"
        },
        "id": "GBEh6QlkAlwG",
        "outputId": "535dbb5a-816e-421f-e8c1-655299f56873"
      },
      "execution_count": null,
      "outputs": [
        {
          "output_type": "stream",
          "name": "stdout",
          "text": [
            "\n",
            " *Predicted data* \n",
            "\n",
            "['เศร้า' 'เศร้า' 'รัก' 'รัก' 'เศร้า' 'เศร้า' 'เศร้า' 'รัก' 'รัก' 'เศร้า'\n",
            " 'รัก' 'รัก' 'รัก' 'เศร้า' 'เศร้า' 'เศร้า' 'รัก' 'รัก' 'เศร้า' 'เศร้า'\n",
            " 'เศร้า' 'เศร้า' 'เศร้า' 'รัก' 'รัก' 'เศร้า' 'รัก' 'เศร้า' 'เศร้า' 'เศร้า'\n",
            " 'รัก' 'รัก' 'เศร้า' 'รัก' 'เศร้า' 'รัก' 'รัก' 'รัก' 'รัก' 'เศร้า' 'รัก'\n",
            " 'เศร้า' 'เศร้า' 'เศร้า' 'รัก' 'เศร้า' 'รัก' 'รัก' 'เศร้า' 'เศร้า' 'รัก'\n",
            " 'รัก' 'เศร้า' 'รัก' 'รัก' 'รัก' 'รัก' 'รัก' 'เศร้า' 'เศร้า' 'เศร้า' 'รัก'\n",
            " 'เศร้า' 'เศร้า' 'รัก' 'รัก' 'เศร้า' 'เศร้า' 'เศร้า' 'เศร้า' 'รัก' 'เศร้า'\n",
            " 'เศร้า' 'เศร้า' 'เศร้า' 'เศร้า' 'รัก' 'รัก' 'เศร้า' 'รัก' 'รัก' 'เศร้า'\n",
            " 'เศร้า' 'รัก' 'รัก' 'รัก' 'เศร้า' 'รัก' 'เศร้า' 'รัก' 'เศร้า' 'รัก' 'รัก'\n",
            " 'เศร้า' 'เศร้า' 'รัก' 'เศร้า' 'เศร้า' 'รัก' 'รัก' 'เศร้า' 'เศร้า' 'รัก'\n",
            " 'รัก' 'เศร้า' 'รัก' 'เศร้า' 'รัก' 'เศร้า' 'รัก' 'เศร้า' 'รัก' 'เศร้า'\n",
            " 'เศร้า' 'เศร้า' 'เศร้า' 'เศร้า' 'รัก' 'รัก' 'รัก' 'รัก' 'เศร้า' 'รัก'\n",
            " 'เศร้า' 'เศร้า' 'เศร้า' 'รัก' 'รัก' 'เศร้า' 'รัก' 'รัก' 'เศร้า' 'รัก'\n",
            " 'รัก' 'รัก' 'รัก' 'เศร้า' 'เศร้า' 'รัก' 'รัก' 'รัก' 'รัก' 'เศร้า' 'เศร้า'\n",
            " 'รัก' 'รัก' 'รัก' 'เศร้า' 'เศร้า' 'เศร้า' 'รัก' 'เศร้า' 'เศร้า' 'รัก'\n",
            " 'รัก' 'รัก' 'รัก' 'รัก' 'เศร้า' 'รัก' 'เศร้า' 'รัก' 'รัก' 'รัก' 'เศร้า'\n",
            " 'เศร้า' 'เศร้า' 'เศร้า' 'รัก' 'เศร้า' 'เศร้า' 'เศร้า' 'รัก' 'รัก' 'เศร้า'\n",
            " 'เศร้า' 'รัก' 'รัก' 'รัก' 'เศร้า' 'เศร้า' 'รัก' 'สนุกสนาน' 'เศร้า'\n",
            " 'สนุกสนาน' 'เศร้า' 'เศร้า' 'เศร้า' 'รัก' 'รัก' 'รัก' 'เศร้า' 'เศร้า'\n",
            " 'รัก' 'รัก' 'เศร้า' 'เศร้า' 'รัก' 'เศร้า' 'รัก' 'เศร้า' 'รัก' 'เศร้า'\n",
            " 'เศร้า' 'เศร้า' 'รัก' 'รัก' 'รัก' 'รัก' 'รัก' 'รัก' 'เศร้า' 'เศร้า'\n",
            " 'เศร้า' 'เศร้า' 'รัก' 'เศร้า' 'รัก' 'รัก' 'รัก' 'เศร้า' 'เศร้า' 'รัก'\n",
            " 'เศร้า' 'รัก' 'เศร้า' 'รัก' 'เศร้า' 'รัก' 'เศร้า' 'เศร้า' 'เศร้า' 'รัก'\n",
            " 'เศร้า' 'รัก' 'รัก' 'รัก' 'เศร้า' 'รัก' 'รัก' 'สนุกสนาน' 'เศร้า'\n",
            " 'สนุกสนาน' 'เศร้า' 'รัก' 'รัก' 'เศร้า' 'รัก' 'รัก' 'สนุกสนาน' 'สนุกสนาน'\n",
            " 'เศร้า' 'สนุกสนาน' 'เศร้า' 'เศร้า' 'เศร้า' 'รัก' 'เศร้า' 'รัก' 'รัก'\n",
            " 'รัก' 'สนุกสนาน' 'สนุกสนาน' 'เศร้า' 'เศร้า' 'รัก' 'รัก' 'รัก' 'เศร้า'\n",
            " 'เศร้า' 'รัก' 'เศร้า' 'เศร้า' 'เศร้า' 'เศร้า' 'รัก' 'รัก' 'เศร้า' 'รัก'\n",
            " 'เศร้า' 'รัก' 'เศร้า' 'เศร้า' 'รัก' 'สนุกสนาน' 'รัก' 'เศร้า' 'เศร้า'\n",
            " 'รัก' 'รัก' 'รัก' 'รัก' 'รัก' 'รัก' 'รัก' 'เศร้า' 'สนุกสนาน' 'เศร้า'\n",
            " 'เศร้า' 'เศร้า' 'เศร้า' 'รัก' 'สนุกสนาน' 'รัก' 'รัก' 'เศร้า' 'เศร้า'\n",
            " 'รัก' 'รัก' 'รัก' 'เศร้า' 'สนุกสนาน' 'รัก' 'รัก' 'เศร้า' 'รัก' 'รัก'\n",
            " 'เศร้า' 'รัก' 'เศร้า' 'เศร้า' 'เศร้า' 'รัก' 'รัก' 'เศร้า' 'เศร้า' 'เศร้า'\n",
            " 'เศร้า' 'รัก' 'เศร้า' 'เศร้า' 'รัก' 'เศร้า' 'เศร้า' 'รัก' 'รัก' 'รัก'\n",
            " 'รัก' 'รัก' 'รัก' 'รัก' 'รัก' 'รัก' 'เศร้า' 'เศร้า' 'เศร้า' 'รัก' 'เศร้า'\n",
            " 'รัก' 'เศร้า' 'เศร้า' 'รัก' 'รัก' 'เศร้า' 'เศร้า' 'รัก' 'เศร้า' 'รัก'\n",
            " 'รัก' 'รัก' 'รัก' 'รัก' 'รัก' 'เศร้า' 'เศร้า' 'รัก' 'รัก' 'รัก' 'รัก'\n",
            " 'รัก' 'เศร้า' 'รัก' 'เศร้า' 'เศร้า' 'สนุกสนาน' 'รัก' 'รัก' 'เศร้า'\n",
            " 'เศร้า' 'รัก' 'รัก' 'รัก' 'เศร้า' 'เศร้า' 'เศร้า' 'รัก' 'รัก' 'เศร้า'\n",
            " 'เศร้า' 'รัก' 'รัก' 'รัก' 'เศร้า' 'รัก' 'เศร้า' 'รัก' 'สนุกสนาน' 'รัก'\n",
            " 'รัก' 'เศร้า' 'รัก' 'เศร้า' 'รัก' 'รัก' 'รัก' 'รัก' 'เศร้า' 'เศร้า'\n",
            " 'เศร้า' 'รัก' 'เศร้า' 'รัก' 'เศร้า' 'เศร้า' 'รัก' 'รัก' 'รัก' 'เศร้า'\n",
            " 'เศร้า' 'สนุกสนาน' 'ให้กำลังใจ' 'รัก' 'เศร้า' 'รัก' 'รัก' 'รัก' 'เศร้า'\n",
            " 'เศร้า' 'รัก' 'รัก' 'รัก' 'รัก' 'รัก' 'รัก' 'เศร้า' 'เศร้า' 'รัก' 'รัก'\n",
            " 'รัก' 'เศร้า' 'รัก' 'เศร้า' 'เศร้า' 'รัก' 'รัก' 'เศร้า' 'รัก' 'เศร้า'\n",
            " 'เศร้า' 'รัก' 'เศร้า' 'รัก' 'เศร้า' 'เศร้า' 'เศร้า' 'รัก' 'รัก' 'รัก'\n",
            " 'รัก' 'รัก' 'รัก' 'เศร้า' 'เศร้า' 'รัก' 'รัก' 'รัก' 'รัก' 'สนุกสนาน'\n",
            " 'เศร้า' 'เศร้า' 'เศร้า' 'เศร้า' 'รัก' 'รัก' 'รัก' 'รัก' 'รัก' 'เศร้า'\n",
            " 'รัก' 'รัก' 'รัก' 'รัก' 'รัก' 'รัก' 'เศร้า' 'รัก' 'รัก' 'รัก' 'เศร้า'\n",
            " 'รัก' 'รัก' 'รัก' 'รัก' 'เศร้า' 'เศร้า' 'เศร้า' 'เศร้า' 'รัก' 'เศร้า'\n",
            " 'เศร้า' 'เศร้า' 'รัก' 'รัก' 'รัก' 'รัก' 'รัก' 'รัก' 'รัก' 'รัก' 'เศร้า'\n",
            " 'เศร้า' 'รัก' 'รัก' 'เศร้า' 'รัก' 'เศร้า' 'รัก' 'เศร้า' 'รัก' 'เศร้า'\n",
            " 'เศร้า' 'เศร้า' 'รัก' 'รัก' 'เศร้า' 'เศร้า' 'เศร้า' 'เศร้า' 'เศร้า' 'รัก'\n",
            " 'รัก' 'เศร้า' 'รัก' 'รัก' 'รัก' 'รัก' 'รัก' 'รัก' 'รัก' 'เศร้า' 'รัก'\n",
            " 'รัก' 'รัก' 'ให้กำลังใจ' 'เศร้า' 'สนุกสนาน' 'เศร้า' 'เศร้า' 'เศร้า'\n",
            " 'เศร้า' 'รัก' 'เศร้า' 'เศร้า' 'เศร้า' 'รัก' 'เศร้า' 'รัก' 'รัก' 'รัก'\n",
            " 'เศร้า' 'รัก' 'รัก' 'เศร้า' 'เศร้า' 'รัก' 'เศร้า' 'เศร้า' 'เศร้า' 'เศร้า'\n",
            " 'เศร้า' 'เศร้า' 'สนุกสนาน' 'เศร้า' 'รัก' 'เศร้า' 'รัก' 'รัก' 'เศร้า'\n",
            " 'เศร้า' 'เศร้า' 'เศร้า' 'รัก' 'รัก' 'รัก' 'รัก' 'รัก' 'รัก' 'เศร้า'\n",
            " 'เศร้า' 'เศร้า' 'รัก' 'รัก' 'รัก' 'เศร้า' 'รัก' 'เศร้า' 'เศร้า' 'รัก'\n",
            " 'รัก' 'รัก' 'รัก' 'เศร้า' 'เศร้า' 'รัก' 'รัก' 'รัก' 'รัก' 'เศร้า' 'เศร้า'\n",
            " 'เศร้า' 'เศร้า' 'เศร้า' 'เศร้า' 'เศร้า' 'เศร้า' 'เศร้า' 'เศร้า' 'รัก'\n",
            " 'เศร้า' 'เศร้า' 'รัก' 'รัก' 'เศร้า' 'รัก' 'รัก' 'รัก' 'รัก' 'เศร้า'\n",
            " 'เศร้า' 'รัก' 'รัก' 'เศร้า' 'สนุกสนาน' 'รัก' 'เศร้า' 'เศร้า' 'เศร้า'\n",
            " 'รัก' 'เศร้า' 'เศร้า' 'รัก' 'เศร้า' 'รัก' 'เศร้า' 'เศร้า' 'รัก' 'รัก'\n",
            " 'รัก' 'เศร้า' 'รัก' 'เศร้า' 'รัก' 'รัก' 'รัก' 'รัก' 'สนุกสนาน' 'เศร้า'\n",
            " 'เศร้า' 'เศร้า' 'รัก' 'รัก' 'เศร้า' 'เศร้า' 'รัก' 'เศร้า' 'เศร้า' 'รัก'\n",
            " 'เศร้า' 'สนุกสนาน' 'เศร้า' 'รัก' 'เศร้า' 'รัก' 'เศร้า' 'เศร้า' 'เศร้า'\n",
            " 'เศร้า' 'รัก' 'รัก' 'สนุกสนาน' 'รัก' 'เศร้า' 'รัก' 'รัก' 'รัก' 'รัก'\n",
            " 'รัก' 'เศร้า' 'เศร้า' 'รัก' 'รัก' 'เศร้า' 'รัก' 'เศร้า' 'รัก' 'รัก' 'รัก'\n",
            " 'รัก' 'รัก' 'เศร้า' 'รัก' 'เศร้า' 'รัก' 'รัก' 'เศร้า' 'รัก' 'เศร้า'\n",
            " 'เศร้า' 'เศร้า' 'เศร้า' 'เศร้า' 'เศร้า' 'เศร้า' 'เศร้า' 'รัก' 'รัก'\n",
            " 'เศร้า' 'เศร้า' 'รัก' 'เศร้า' 'เศร้า' 'เศร้า' 'รัก' 'เศร้า' 'รัก' 'รัก'\n",
            " 'เศร้า' 'เศร้า' 'สนุกสนาน' 'เศร้า' 'เศร้า' 'รัก' 'รัก' 'เศร้า' 'รัก'\n",
            " 'เศร้า' 'เศร้า' 'รัก' 'สนุกสนาน' 'รัก' 'รัก' 'รัก' 'รัก' 'สนุกสนาน' 'รัก'\n",
            " 'เศร้า' 'เศร้า' 'รัก' 'เศร้า' 'รัก' 'รัก' 'เศร้า' 'เศร้า' 'รัก' 'เศร้า'\n",
            " 'เศร้า' 'รัก' 'เศร้า' 'เศร้า' 'เศร้า' 'เศร้า' 'เศร้า' 'เศร้า' 'เศร้า'\n",
            " 'เศร้า' 'เศร้า' 'เศร้า' 'รัก' 'เศร้า' 'เศร้า' 'เศร้า' 'เศร้า' 'รัก'\n",
            " 'เศร้า' 'เศร้า' 'เศร้า' 'เศร้า' 'รัก' 'รัก' 'รัก' 'รัก' 'รัก' 'เศร้า'\n",
            " 'เศร้า' 'เศร้า' 'รัก' 'เศร้า' 'เศร้า' 'รัก' 'เศร้า' 'รัก' 'เศร้า' 'เศร้า'\n",
            " 'เศร้า' 'รัก' 'รัก' 'เศร้า' 'รัก' 'เศร้า' 'รัก' 'เศร้า' 'เศร้า' 'รัก'\n",
            " 'รัก' 'รัก' 'รัก' 'รัก' 'เศร้า' 'เศร้า' 'รัก' 'รัก' 'รัก' 'เศร้า' 'เศร้า'\n",
            " 'เศร้า' 'รัก' 'เศร้า' 'รัก' 'เศร้า' 'สนุกสนาน' 'เศร้า' 'เศร้า' 'เศร้า'\n",
            " 'เศร้า' 'เศร้า' 'เศร้า' 'รัก' 'รัก' 'รัก' 'เศร้า' 'เศร้า' 'รัก' 'เศร้า'\n",
            " 'เศร้า' 'รัก' 'รัก' 'เศร้า' 'รัก' 'เศร้า' 'เศร้า' 'สนุกสนาน' 'รัก' 'รัก'\n",
            " 'เศร้า' 'เศร้า' 'รัก' 'เศร้า' 'รัก' 'สนุกสนาน' 'เศร้า' 'รัก' 'เศร้า'\n",
            " 'เศร้า' 'เศร้า' 'รัก' 'เศร้า' 'เศร้า' 'รัก' 'รัก' 'รัก' 'รัก' 'รัก' 'รัก'\n",
            " 'เศร้า' 'เศร้า' 'เศร้า' 'เศร้า' 'เศร้า' 'สนุกสนาน' 'เศร้า' 'เศร้า'\n",
            " 'ให้กำลังใจ' 'เศร้า' 'เศร้า' 'รัก' 'เศร้า' 'เศร้า' 'เศร้า' 'รัก' 'รัก'\n",
            " 'เศร้า' 'รัก' 'รัก' 'เศร้า' 'รัก' 'รัก' 'รัก' 'เศร้า' 'เศร้า' 'เศร้า'\n",
            " 'รัก' 'รัก' 'รัก' 'รัก' 'เศร้า' 'รัก' 'เศร้า' 'รัก' 'สนุกสนาน' 'รัก'\n",
            " 'รัก' 'รัก' 'สนุกสนาน' 'เศร้า' 'เศร้า' 'เศร้า' 'เศร้า' 'รัก' 'รัก'\n",
            " 'สนุกสนาน']\n",
            "[[236   1 107   0]\n",
            " [ 35  25  68   0]\n",
            " [157   5 211   0]\n",
            " [ 14   2  46   3]]\n",
            "0.521978021978022\n"
          ]
        }
      ]
    },
    {
      "cell_type": "markdown",
      "source": [
        "Decition tree (K-fold)\n"
      ],
      "metadata": {
        "id": "UikfY85KBHwn"
      }
    },
    {
      "cell_type": "code",
      "source": [
        "from sklearn import datasets\n",
        "from sklearn import neighbors\n",
        "\n",
        "x = dfNew.loc[:,dfX.columns!='Label']\n",
        "y = dfNew.loc[:,'Label']\n",
        "\n",
        "from sklearn.model_selection import train_test_split\n",
        "\n",
        "x_train, x_test, y_train, y_test = train_test_split(x, y, test_size=0.3) \n",
        "\n",
        "knn= neighbors.KNeighborsClassifier() \n",
        "knn.fit(x_train,y_train)\n",
        "\n",
        "y_pred = knn.predict(x_test) # Test a model\n",
        "\n",
        "knn= neighbors.KNeighborsClassifier() \n",
        "knn.fit(x_train,y_train) # Create a model\n",
        "y_pred= knn.predict(x_test) # Test a model\n",
        "\n",
        "from sklearn.metrics import confusion_matrix\n",
        "from sklearn import metrics\n",
        "\n",
        "print(\"\\n *Predicted data* \\n\")\n",
        "print(y_pred)\n",
        "print(confusion_matrix(y_test, y_pred))\n",
        "print(metrics.accuracy_score(y_test, y_pred))"
      ],
      "metadata": {
        "colab": {
          "base_uri": "https://localhost:8080/"
        },
        "id": "3u8kZdOpAv7n",
        "outputId": "942be0d3-37c0-4746-c050-27572700d452"
      },
      "execution_count": null,
      "outputs": [
        {
          "output_type": "stream",
          "name": "stdout",
          "text": [
            "\n",
            " *Predicted data* \n",
            "\n",
            "['รัก' 'เศร้า' 'เศร้า' 'เศร้า' 'รัก' 'รัก' 'เศร้า' 'รัก' 'รัก' 'รัก' 'รัก'\n",
            " 'เศร้า' 'เศร้า' 'รัก' 'รัก' 'รัก' 'เศร้า' 'เศร้า' 'เศร้า' 'เศร้า' 'เศร้า'\n",
            " 'ให้กำลังใจ' 'เศร้า' 'เศร้า' 'เศร้า' 'เศร้า' 'รัก' 'รัก' 'รัก' 'เศร้า'\n",
            " 'เศร้า' 'รัก' 'รัก' 'สนุกสนาน' 'เศร้า' 'รัก' 'เศร้า' 'เศร้า' 'เศร้า'\n",
            " 'เศร้า' 'เศร้า' 'เศร้า' 'เศร้า' 'เศร้า' 'รัก' 'เศร้า' 'เศร้า' 'เศร้า'\n",
            " 'เศร้า' 'รัก' 'เศร้า' 'เศร้า' 'เศร้า' 'เศร้า' 'เศร้า' 'เศร้า' 'รัก' 'รัก'\n",
            " 'เศร้า' 'เศร้า' 'เศร้า' 'ให้กำลังใจ' 'เศร้า' 'เศร้า' 'เศร้า' 'เศร้า'\n",
            " 'รัก' 'รัก' 'รัก' 'เศร้า' 'เศร้า' 'รัก' 'รัก' 'เศร้า' 'เศร้า' 'รัก'\n",
            " 'เศร้า' 'รัก' 'เศร้า' 'เศร้า' 'รัก' 'รัก' 'รัก' 'เศร้า' 'รัก' 'รัก'\n",
            " 'เศร้า' 'เศร้า' 'เศร้า' 'เศร้า' 'เศร้า' 'รัก' 'เศร้า' 'เศร้า' 'เศร้า'\n",
            " 'เศร้า' 'เศร้า' 'รัก' 'สนุกสนาน' 'รัก' 'เศร้า' 'รัก' 'เศร้า' 'รัก' 'รัก'\n",
            " 'รัก' 'รัก' 'เศร้า' 'เศร้า' 'เศร้า' 'เศร้า' 'รัก' 'เศร้า' 'เศร้า'\n",
            " 'ให้กำลังใจ' 'เศร้า' 'เศร้า' 'เศร้า' 'เศร้า' 'รัก' 'เศร้า' 'รัก' 'เศร้า'\n",
            " 'รัก' 'เศร้า' 'เศร้า' 'เศร้า' 'รัก' 'เศร้า' 'รัก' 'รัก' 'เศร้า' 'รัก'\n",
            " 'เศร้า' 'เศร้า' 'เศร้า' 'เศร้า' 'เศร้า' 'เศร้า' 'รัก' 'เศร้า' 'รัก' 'รัก'\n",
            " 'รัก' 'รัก' 'เศร้า' 'เศร้า' 'เศร้า' 'เศร้า' 'รัก' 'เศร้า' 'ให้กำลังใจ'\n",
            " 'เศร้า' 'รัก' 'รัก' 'เศร้า' 'เศร้า' 'เศร้า' 'เศร้า' 'รัก' 'รัก' 'รัก'\n",
            " 'เศร้า' 'รัก' 'เศร้า' 'เศร้า' 'เศร้า' 'เศร้า' 'เศร้า' 'เศร้า' 'เศร้า'\n",
            " 'รัก' 'เศร้า' 'เศร้า' 'รัก' 'รัก' 'เศร้า' 'เศร้า' 'รัก' 'รัก' 'เศร้า'\n",
            " 'เศร้า' 'เศร้า' 'รัก' 'เศร้า' 'เศร้า' 'เศร้า' 'เศร้า' 'รัก' 'รัก' 'เศร้า'\n",
            " 'เศร้า' 'รัก' 'รัก' 'สนุกสนาน' 'เศร้า' 'รัก' 'เศร้า' 'รัก' 'รัก' 'เศร้า'\n",
            " 'เศร้า' 'เศร้า' 'เศร้า' 'เศร้า' 'รัก' 'เศร้า' 'รัก' 'เศร้า' 'เศร้า' 'รัก'\n",
            " 'รัก' 'รัก' 'เศร้า' 'เศร้า' 'เศร้า' 'รัก' 'เศร้า' 'เศร้า' 'รัก' 'รัก'\n",
            " 'เศร้า' 'เศร้า' 'เศร้า' 'เศร้า' 'รัก' 'รัก' 'เศร้า' 'รัก' 'เศร้า' 'รัก'\n",
            " 'เศร้า' 'เศร้า' 'เศร้า' 'รัก' 'รัก' 'สนุกสนาน' 'รัก' 'เศร้า' 'เศร้า'\n",
            " 'เศร้า' 'เศร้า' 'รัก' 'รัก' 'รัก' 'เศร้า' 'เศร้า' 'เศร้า' 'เศร้า' 'เศร้า'\n",
            " 'รัก' 'รัก' 'เศร้า' 'รัก' 'เศร้า' 'รัก' 'รัก' 'เศร้า' 'เศร้า' 'เศร้า'\n",
            " 'รัก' 'เศร้า' 'รัก' 'เศร้า' 'เศร้า' 'รัก' 'เศร้า' 'รัก' 'ให้กำลังใจ'\n",
            " 'เศร้า' 'รัก' 'เศร้า' 'ให้กำลังใจ']\n",
            "[[49  1 51  0]\n",
            " [10  1 23  1]\n",
            " [37  1 72  2]\n",
            " [ 5  1 16  3]]\n",
            "0.45787545787545786\n"
          ]
        }
      ]
    },
    {
      "cell_type": "markdown",
      "source": [
        "Split training & test sets"
      ],
      "metadata": {
        "id": "LocSB3HnBbxW"
      }
    },
    {
      "cell_type": "code",
      "source": [
        "from sklearn import datasets\n",
        "from sklearn import neighbors\n",
        "\n",
        "x = dfNew.loc[:,dfX.columns!='Label']\n",
        "y = dfNew.loc[:,'Label']\n",
        "\n",
        "from sklearn.model_selection import train_test_split\n",
        "\n",
        "x_train, x_test, y_train, y_test = train_test_split(x, y, test_size=0.3) \n",
        "\n",
        "knn= neighbors.KNeighborsClassifier() \n",
        "knn.fit(x_train,y_train)\n",
        "\n",
        "y_pred = knn.predict(x_test) # Test a model\n",
        "\n",
        "knn= neighbors.KNeighborsClassifier() \n",
        "knn.fit(x_train,y_train) # Create a model\n",
        "y_pred= knn.predict(x_test) # Test a model\n",
        "\n",
        "from sklearn.metrics import confusion_matrix\n",
        "from sklearn import metrics\n",
        "print(confusion_matrix(y_test, y_pred))\n",
        "print(metrics.accuracy_score(y_test, y_pred))\n"
      ],
      "metadata": {
        "colab": {
          "base_uri": "https://localhost:8080/"
        },
        "id": "TD9EENR3Bdmt",
        "outputId": "017d6656-9685-4b0f-fae2-dd11e3e84ccb"
      },
      "execution_count": null,
      "outputs": [
        {
          "output_type": "stream",
          "name": "stdout",
          "text": [
            "[[50  1 53  2]\n",
            " [19  0 24  2]\n",
            " [37  0 58  0]\n",
            " [11  0 12  4]]\n",
            "0.41025641025641024\n"
          ]
        }
      ]
    },
    {
      "cell_type": "markdown",
      "source": [],
      "metadata": {
        "id": "N3oxWNm8BSUu"
      }
    }
  ]
}